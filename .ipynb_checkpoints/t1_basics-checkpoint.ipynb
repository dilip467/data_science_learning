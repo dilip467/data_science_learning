{
 "cells": [
  {
   "cell_type": "code",
   "execution_count": 7,
   "id": "ee89f0c2-0f8d-4856-96bd-0ec6444c9857",
   "metadata": {},
   "outputs": [
    {
     "name": "stdin",
     "output_type": "stream",
     "text": [
      " 2\n",
      " 34 5 1 4 5\n"
     ]
    },
    {
     "name": "stdout",
     "output_type": "stream",
     "text": [
      "2 [34, 5, 1, 4, 5]\n"
     ]
    }
   ],
   "source": [
    "#taking input\n",
    "num = input()\n",
    "list_num = list(map(int, input().split()))\n",
    "print(num, list_num)"
   ]
  },
  {
   "cell_type": "code",
   "execution_count": 35,
   "id": "92195dd0-2c1e-4aa2-b206-5d5e4c0bb5c1",
   "metadata": {},
   "outputs": [
    {
     "name": "stdout",
     "output_type": "stream",
     "text": [
      "1631\n",
      "4\n",
      "1\n",
      "5\n",
      "123 123 66 55 5\n",
      "[123, 123, 66, 55, 5] [123, 123, 1234, 55, 5] [5, 55, 66, 123, 123]\n",
      "['date', 'apple', 'banana', 'cherry', 'elderberry']\n",
      "[(2, 1), (4, 2), (1, 3), (3, 4)]\n",
      "['banana', 'apple', 'date', 'cherry', 'elderberry']\n",
      "[{'name': 'Bob', 'age': 25}, {'name': 'Alice', 'age': 30}, {'name': 'Charlie', 'age': 35}]\n",
      "['Bob', 'Alice', 'Charlie']\n"
     ]
    }
   ],
   "source": [
    "#list\n",
    "l = list()\n",
    "l.append(5)\n",
    "l.append(1631)\n",
    "l.extend([123, 55 , 66, 55])\n",
    "l.remove(55) # removes first occurence of given number\n",
    "l.insert(2, 123)\n",
    "print(l.pop(1)) #Removes and returns the item at index i. If i is not specified, it removes and returns the last item.\n",
    "print(l.index(55)) #index(x[, start[, end]])\n",
    "l.sort(key=None, reverse= False)\n",
    "l.reverse()\n",
    "print(l.count(55))\n",
    "print(len(l))\n",
    "print(*l)\n",
    "l_copy = l.copy()\n",
    "l_copy[2] = 1234\n",
    "l_copy2 = sorted(l, key= lambda x : x)\n",
    "print(l, l_copy, l_copy2)\n",
    "\n",
    "#sorting based on len of word\n",
    "words = [\"apple\", \"banana\", \"cherry\", \"date\", \"elderberry\"]\n",
    "words.sort(key=len)\n",
    "print(words)\n",
    "\n",
    "# sorting based on second value\n",
    "pairs = [(1, 3), (2, 1), (3, 4), (4, 2)]\n",
    "pairs.sort(key=lambda x: x[1])\n",
    "print(pairs)\n",
    "\n",
    "# sorting based on last charcater\n",
    "words = [\"apple\", \"banana\", \"cherry\", \"date\", \"elderberry\"]\n",
    "words.sort(key=lambda x: x[-1])\n",
    "print(words)\n",
    "\n",
    "\n",
    "# sorting based on age\n",
    "people = [\n",
    "    {'name': 'Alice', 'age': 30},\n",
    "    {'name': 'Bob', 'age': 25},\n",
    "    {'name': 'Charlie', 'age': 35}\n",
    "]\n",
    "people.sort(key=lambda x: x['age'])\n",
    "print(people)\n",
    "\n",
    "# sorting objects based on a parameter\n",
    "class Student:\n",
    "    def __init__(self, name, grade):\n",
    "        self.name = name\n",
    "        self.grade = grade\n",
    "\n",
    "students = [Student('Alice', 90), Student('Bob', 85), Student('Charlie', 95)]\n",
    "students.sort(key=lambda x: x.grade)\n",
    "print([student.name for student in students])\n",
    "students.clear()"
   ]
  },
  {
   "cell_type": "code",
   "execution_count": 33,
   "id": "05f914b7-377e-4aaa-92dd-e07331a44cec",
   "metadata": {},
   "outputs": [
    {
     "name": "stdout",
     "output_type": "stream",
     "text": [
      "12\n",
      "None\n",
      "dict_keys(['a', 'b', 'c'])\n",
      "dict_values([12, 23, 36])\n",
      "a b c dict_items([('a', 12), ('b', 23), ('c', 36)])\n",
      "36 {'a': 12, 'b': 23}\n",
      "('b', 23)\n",
      "{'a': 12, 'c': 123, 'd': 125}\n",
      "100\n"
     ]
    }
   ],
   "source": [
    "#dictionary\n",
    "\n",
    "d = dict()\n",
    "d['a'] = 12\n",
    "d['b'] = 23\n",
    "d['c'] = 36\n",
    "value = d.get('a', None)\n",
    "print(value)\n",
    "value = d.get('d', None)\n",
    "print(value)\n",
    "keys = d.keys()\n",
    "values = d.values()\n",
    "print(keys)\n",
    "print(values)\n",
    "for key in keys:\n",
    "    print(key, end=' ')\n",
    "    \n",
    "d_copy = d.copy()\n",
    "d_copy.clear()\n",
    "del d_copy\n",
    "d_items = d.items() #Returns a view of the dictionary's key-value pairs as tuples.\n",
    "print(d_items)\n",
    "\n",
    "pop_item_value = d.pop('c', None)  # Removes the specified key and returns its associated value. If the key is not found, it returns the default value (or raises a KeyError if not provided).\n",
    "print(pop_item_value, d)\n",
    "\n",
    "item = d.popitem() #Removes and returns the last key-value pair as a tuple.\n",
    "print(item)\n",
    "new_d = {'c' : 123, 'd' : 125}\n",
    "d.update(new_d) #Updates the dictionary with key-value pairs from another dictionary or iterable\n",
    "print(d)\n",
    "\n",
    "value = d.setdefault('g',100) #Returns the value for the specified key. If the key is not found, it inserts the key with the default value (or None if not provided) and returns that value.\n",
    "print(value)"
   ]
  },
  {
   "cell_type": "code",
   "execution_count": null,
   "id": "d4d4947e-d4ad-4778-a230-7fdefcc9069e",
   "metadata": {},
   "outputs": [],
   "source": []
  }
 ],
 "metadata": {
  "kernelspec": {
   "display_name": "learning-env",
   "language": "python",
   "name": "learning-env"
  },
  "language_info": {
   "codemirror_mode": {
    "name": "ipython",
    "version": 3
   },
   "file_extension": ".py",
   "mimetype": "text/x-python",
   "name": "python",
   "nbconvert_exporter": "python",
   "pygments_lexer": "ipython3",
   "version": "3.10.9"
  }
 },
 "nbformat": 4,
 "nbformat_minor": 5
}
