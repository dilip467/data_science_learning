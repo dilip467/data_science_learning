{
 "cells": [
  {
   "cell_type": "code",
   "execution_count": 1,
   "id": "60c8bc2b-4a28-4f90-a8f0-38ba2db37073",
   "metadata": {},
   "outputs": [],
   "source": [
    "import numpy as np"
   ]
  },
  {
   "cell_type": "code",
   "execution_count": 11,
   "id": "7fc8f2da-5df2-4f45-acdc-5081a8b45373",
   "metadata": {},
   "outputs": [
    {
     "data": {
      "text/plain": [
       "array([0, 2, 3, 4, 5, 6])"
      ]
     },
     "execution_count": 11,
     "metadata": {},
     "output_type": "execute_result"
    }
   ],
   "source": [
    "arr = np.array([0,2,3,4,5,6])\n",
    "arr"
   ]
  },
  {
   "cell_type": "code",
   "execution_count": 12,
   "id": "8ca2a049-3894-4b7d-8766-ffb6b7ad3439",
   "metadata": {},
   "outputs": [],
   "source": [
    "def meta_data(arr):\n",
    "    print('type: ', type(arr))\n",
    "    print('size: ', arr.size)\n",
    "    print('dimensions: ', arr.ndim)\n",
    "    print('shape: ', arr.shape)"
   ]
  },
  {
   "cell_type": "code",
   "execution_count": 13,
   "id": "a4ecb368-cd57-47ef-b5ef-43d285ab037c",
   "metadata": {},
   "outputs": [
    {
     "name": "stdout",
     "output_type": "stream",
     "text": [
      "type:  <class 'numpy.ndarray'>\n",
      "size:  6\n",
      "dimensions:  1\n",
      "shape:  (6,)\n"
     ]
    }
   ],
   "source": [
    "meta_data(arr)"
   ]
  },
  {
   "cell_type": "code",
   "execution_count": 14,
   "id": "4eddb494-0dce-4abb-b478-74756faf424f",
   "metadata": {},
   "outputs": [],
   "source": [
    "arr[0] = 100"
   ]
  },
  {
   "cell_type": "code",
   "execution_count": 18,
   "id": "60e8ab2c-cfc0-4fc6-8714-b095ea61a0a7",
   "metadata": {},
   "outputs": [],
   "source": [
    "u = arr[0:3]\n",
    "v = arr[3:]"
   ]
  },
  {
   "cell_type": "code",
   "execution_count": 21,
   "id": "ba1d7213-3fe5-40ec-ade1-a018e4514a4b",
   "metadata": {},
   "outputs": [
    {
     "data": {
      "text/plain": [
       "array([4, 5, 6])"
      ]
     },
     "execution_count": 21,
     "metadata": {},
     "output_type": "execute_result"
    }
   ],
   "source": [
    "v"
   ]
  },
  {
   "cell_type": "code",
   "execution_count": 22,
   "id": "540719b3-dae6-416a-8130-fee3221999c5",
   "metadata": {},
   "outputs": [
    {
     "data": {
      "text/plain": [
       "array([100,   2,   3])"
      ]
     },
     "execution_count": 22,
     "metadata": {},
     "output_type": "execute_result"
    }
   ],
   "source": [
    "u"
   ]
  },
  {
   "cell_type": "code",
   "execution_count": 23,
   "id": "00f756e8-f1fe-48ac-8d51-c60e35682508",
   "metadata": {},
   "outputs": [
    {
     "data": {
      "text/plain": [
       "array([104,   7,   9])"
      ]
     },
     "execution_count": 23,
     "metadata": {},
     "output_type": "execute_result"
    }
   ],
   "source": [
    "u+v"
   ]
  },
  {
   "cell_type": "code",
   "execution_count": 24,
   "id": "7a4ce58e-e773-44cb-aad0-a61aca97da67",
   "metadata": {},
   "outputs": [
    {
     "data": {
      "text/plain": [
       "array([104,   7,   9])"
      ]
     },
     "execution_count": 24,
     "metadata": {},
     "output_type": "execute_result"
    }
   ],
   "source": [
    "np.add(u,v)"
   ]
  },
  {
   "cell_type": "code",
   "execution_count": 25,
   "id": "c17f9f49-09fd-40e5-b703-9bb3e41e1dd2",
   "metadata": {},
   "outputs": [
    {
     "data": {
      "text/plain": [
       "array([96, -3, -3])"
      ]
     },
     "execution_count": 25,
     "metadata": {},
     "output_type": "execute_result"
    }
   ],
   "source": [
    "u-v"
   ]
  },
  {
   "cell_type": "code",
   "execution_count": 30,
   "id": "4d365c3e-2d27-4b47-810d-b888ebe2d21f",
   "metadata": {},
   "outputs": [
    {
     "data": {
      "text/plain": [
       "array([96, -3, -3])"
      ]
     },
     "execution_count": 30,
     "metadata": {},
     "output_type": "execute_result"
    }
   ],
   "source": [
    "np.subtract(u,v)"
   ]
  },
  {
   "cell_type": "code",
   "execution_count": 31,
   "id": "6379cf01-e9fc-4b8e-bf82-8d794a423553",
   "metadata": {},
   "outputs": [
    {
     "data": {
      "text/plain": [
       "array([ 8, 10, 12])"
      ]
     },
     "execution_count": 31,
     "metadata": {},
     "output_type": "execute_result"
    }
   ],
   "source": [
    "2 *v"
   ]
  },
  {
   "cell_type": "code",
   "execution_count": 32,
   "id": "eb75088e-9441-4252-aeb1-5218b56df5c3",
   "metadata": {},
   "outputs": [
    {
     "data": {
      "text/plain": [
       "array([400,  10,  18])"
      ]
     },
     "execution_count": 32,
     "metadata": {},
     "output_type": "execute_result"
    }
   ],
   "source": [
    "u*v"
   ]
  },
  {
   "cell_type": "code",
   "execution_count": 33,
   "id": "cab93f19-76d7-4609-b223-5691d30f0d99",
   "metadata": {},
   "outputs": [
    {
     "data": {
      "text/plain": [
       "array([400,  10,  18])"
      ]
     },
     "execution_count": 33,
     "metadata": {},
     "output_type": "execute_result"
    }
   ],
   "source": [
    "np.multiply(u,v)"
   ]
  },
  {
   "cell_type": "code",
   "execution_count": 34,
   "id": "948b37b3-643e-4719-aa98-507faf5664a0",
   "metadata": {},
   "outputs": [
    {
     "data": {
      "text/plain": [
       "428"
      ]
     },
     "execution_count": 34,
     "metadata": {},
     "output_type": "execute_result"
    }
   ],
   "source": [
    "np.dot(u,v)"
   ]
  },
  {
   "cell_type": "code",
   "execution_count": 35,
   "id": "551eab4d-78ae-4fd9-910d-dbf5e9a5f85f",
   "metadata": {},
   "outputs": [
    {
     "data": {
      "text/plain": [
       "array([101,   3,   4])"
      ]
     },
     "execution_count": 35,
     "metadata": {},
     "output_type": "execute_result"
    }
   ],
   "source": [
    "u+1"
   ]
  },
  {
   "cell_type": "code",
   "execution_count": 36,
   "id": "408093d8-30db-48e5-9928-8328ddff5959",
   "metadata": {},
   "outputs": [
    {
     "data": {
      "text/plain": [
       "35.0"
      ]
     },
     "execution_count": 36,
     "metadata": {},
     "output_type": "execute_result"
    }
   ],
   "source": [
    "u.mean()"
   ]
  },
  {
   "cell_type": "code",
   "execution_count": 39,
   "id": "32761bf0-d4c7-4260-a4a8-53289f134819",
   "metadata": {},
   "outputs": [
    {
     "name": "stdout",
     "output_type": "stream",
     "text": [
      "100 2\n"
     ]
    }
   ],
   "source": [
    "print(u.max(), u.min())"
   ]
  },
  {
   "cell_type": "code",
   "execution_count": 40,
   "id": "ba80cacb-f083-4a1b-b7cf-8b956deda84a",
   "metadata": {},
   "outputs": [
    {
     "data": {
      "text/plain": [
       "3.141592653589793"
      ]
     },
     "execution_count": 40,
     "metadata": {},
     "output_type": "execute_result"
    }
   ],
   "source": [
    "np.pi"
   ]
  },
  {
   "cell_type": "code",
   "execution_count": 41,
   "id": "d9e51649-097c-49c5-a7f7-f026935bea95",
   "metadata": {},
   "outputs": [
    {
     "data": {
      "text/plain": [
       "0.8939966636005579"
      ]
     },
     "execution_count": 41,
     "metadata": {},
     "output_type": "execute_result"
    }
   ],
   "source": [
    "np.sin(90)"
   ]
  },
  {
   "cell_type": "code",
   "execution_count": 42,
   "id": "244a0c47-bf58-4ba2-a649-6646b8cfc877",
   "metadata": {},
   "outputs": [
    {
     "data": {
      "text/plain": [
       "array([-0.50636564,  0.90929743,  0.14112001, -0.7568025 , -0.95892427,\n",
       "       -0.2794155 ])"
      ]
     },
     "execution_count": 42,
     "metadata": {},
     "output_type": "execute_result"
    }
   ],
   "source": [
    "np.sin(arr)"
   ]
  },
  {
   "cell_type": "code",
   "execution_count": 44,
   "id": "3b31c657-6230-49db-b4c2-0fc04e35f24b",
   "metadata": {},
   "outputs": [
    {
     "name": "stdout",
     "output_type": "stream",
     "text": [
      "3 generating n nums in given range with unique difference\n"
     ]
    },
    {
     "data": {
      "text/plain": [
       "array([-1.        , -0.77777778, -0.55555556, -0.33333333, -0.11111111,\n",
       "        0.11111111,  0.33333333,  0.55555556,  0.77777778,  1.        ])"
      ]
     },
     "execution_count": 44,
     "metadata": {},
     "output_type": "execute_result"
    }
   ],
   "source": [
    "print('# generating n nums in given range with unique difference')\n",
    "np.linspace(-1, 1, 10)"
   ]
  },
  {
   "cell_type": "code",
   "execution_count": 47,
   "id": "4be2d2ff-990e-4101-a331-d78a1e097a94",
   "metadata": {},
   "outputs": [
    {
     "data": {
      "text/plain": [
       "[<matplotlib.lines.Line2D at 0x1653fea1ae0>]"
      ]
     },
     "execution_count": 47,
     "metadata": {},
     "output_type": "execute_result"
    },
    {
     "data": {
      "image/png": "[encoded data removed]",
      "text/plain": [
       "<Figure size 640x480 with 1 Axes>"
      ]
     },
     "metadata": {},
     "output_type": "display_data"
    }
   ],
   "source": [
    "x = np.linspace(0, 2*np.pi , 10)\n",
    "y = np.sin(x)\n",
    "import matplotlib.pyplot as plt\n",
    "%matplotlib inline\n",
    "plt.plot(x,y)"
   ]
  },
  {
   "cell_type": "code",
   "execution_count": 48,
   "id": "975214f0-48c0-42ae-9ef3-f8d23850a90f",
   "metadata": {},
   "outputs": [
    {
     "data": {
      "text/plain": [
       "array([2, 4])"
      ]
     },
     "execution_count": 48,
     "metadata": {},
     "output_type": "execute_result"
    }
   ],
   "source": [
    "arr[1:5:2]"
   ]
  },
  {
   "cell_type": "code",
   "execution_count": 49,
   "id": "960af967-0eb2-42f3-a7d6-64c93625a2be",
   "metadata": {},
   "outputs": [
    {
     "data": {
      "text/plain": [
       "array([2, 4, 6])"
      ]
     },
     "execution_count": 49,
     "metadata": {},
     "output_type": "execute_result"
    }
   ],
   "source": [
    "# getting values at given indexes\n",
    "select = [1, 3, 5]\n",
    "arr[select]"
   ]
  },
  {
   "cell_type": "code",
   "execution_count": 50,
   "id": "9be0a3c8-76d2-4e5e-b5ef-e3abcefc6a87",
   "metadata": {},
   "outputs": [
    {
     "data": {
      "text/plain": [
       "array([100,  10,   3,  10,   5,  10])"
      ]
     },
     "execution_count": 50,
     "metadata": {},
     "output_type": "execute_result"
    }
   ],
   "source": [
    "#updatting values at given indexes\n",
    "select = [1, 3, 5]\n",
    "arr[select] = 10\n",
    "arr"
   ]
  },
  {
   "cell_type": "code",
   "execution_count": 53,
   "id": "a663ee12-d27e-4255-a15f-2875290a11b9",
   "metadata": {},
   "outputs": [
    {
     "name": "stdout",
     "output_type": "stream",
     "text": [
      "type:  <class 'numpy.ndarray'>\n",
      "size:  12\n",
      "dimensions:  2\n",
      "shape:  (3, 4)\n"
     ]
    }
   ],
   "source": [
    "# 2D numpy srrays\n",
    "arr2 = np.array([[1,2,3,4],[5,6,7,8],[9,10,11,12]])\n",
    "meta_data(arr2)"
   ]
  },
  {
   "cell_type": "code",
   "execution_count": 54,
   "id": "43850147-c1bb-4b59-a104-12186bbce081",
   "metadata": {},
   "outputs": [
    {
     "data": {
      "text/plain": [
       "1"
      ]
     },
     "execution_count": 54,
     "metadata": {},
     "output_type": "execute_result"
    }
   ],
   "source": [
    "arr2[0][0]"
   ]
  },
  {
   "cell_type": "code",
   "execution_count": 55,
   "id": "44b01c9b-78e8-401d-afda-eb719ebfb830",
   "metadata": {},
   "outputs": [
    {
     "data": {
      "text/plain": [
       "6"
      ]
     },
     "execution_count": 55,
     "metadata": {},
     "output_type": "execute_result"
    }
   ],
   "source": [
    "arr2[1,1]"
   ]
  },
  {
   "cell_type": "code",
   "execution_count": 57,
   "id": "e91850be-cdc4-4626-94e5-900c873996d3",
   "metadata": {},
   "outputs": [
    {
     "data": {
      "text/plain": [
       "array([[1, 2, 3, 4],\n",
       "       [5, 6, 7, 8]])"
      ]
     },
     "execution_count": 57,
     "metadata": {},
     "output_type": "execute_result"
    }
   ],
   "source": [
    "arr2[0:2]"
   ]
  },
  {
   "cell_type": "code",
   "execution_count": 58,
   "id": "926f4539-a159-4c47-b692-e363fa277f4f",
   "metadata": {},
   "outputs": [
    {
     "data": {
      "text/plain": [
       "array([[1, 2],\n",
       "       [5, 6]])"
      ]
     },
     "execution_count": 58,
     "metadata": {},
     "output_type": "execute_result"
    }
   ],
   "source": [
    "arr2[0:2,0:2]"
   ]
  },
  {
   "cell_type": "code",
   "execution_count": 59,
   "id": "ee9cf8c0-ff18-4c17-bdce-15bfcf07a43c",
   "metadata": {},
   "outputs": [
    {
     "data": {
      "text/plain": [
       "array([[ 54,  76,  98],\n",
       "       [130, 180, 230],\n",
       "       [206, 284, 362]])"
      ]
     },
     "execution_count": 59,
     "metadata": {},
     "output_type": "execute_result"
    }
   ],
   "source": [
    "# matrix multiplication\n",
    "A = np.array([[1,2,3,4],[5,6,7,8],[9,10,11,12]])\n",
    "B = np.array([[1,2,3],[5,6,7],[9,10,11],[4,8,12]])\n",
    "AB = np.dot(A,B)\n",
    "AB"
   ]
  },
  {
   "cell_type": "code",
   "execution_count": null,
   "id": "1f8c24a3-3d4a-418d-84ef-b0ccd226aa69",
   "metadata": {},
   "outputs": [],
   "source": []
  }
 ],
 "metadata": {
  "kernelspec": {
   "display_name": "learning-env",
   "language": "python",
   "name": "learning-env"
  },
  "language_info": {
   "codemirror_mode": {
    "name": "ipython",
    "version": 3
   },
   "file_extension": ".py",
   "mimetype": "text/x-python",
   "name": "python",
   "nbconvert_exporter": "python",
   "pygments_lexer": "ipython3",
   "version": "3.10.9"
  }
 },
 "nbformat": 4,
 "nbformat_minor": 5
}
