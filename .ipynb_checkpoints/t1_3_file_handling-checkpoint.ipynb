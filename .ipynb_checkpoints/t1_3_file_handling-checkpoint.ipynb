{
 "cells": [
  {
   "cell_type": "code",
   "execution_count": 16,
   "id": "3a611b3e-e6c6-4fad-9b19-8896dca21146",
   "metadata": {},
   "outputs": [
    {
     "name": "stdout",
     "output_type": "stream",
     "text": [
      "r ./datasets/sample_text_file.txt\n",
      "0\n",
      "# reading total contents of the file\n",
      "hyma 31\n",
      "dilip 96\n",
      "bhavani 07\n",
      "indhu 05 \n",
      "sai 45\n",
      "# reading n characters from file\n",
      "hyma 3\n",
      "1\n",
      "dil\n",
      "# iterating through the lines of the file\n",
      "line- 1 hyma 31\n",
      "\n",
      "line- 2 dilip 96\n",
      "\n",
      "line- 3 bhavani 07\n",
      "\n",
      "line- 4 indhu 05 \n",
      "\n",
      "line- 5 sai 45\n",
      "# getting lines of file as list of strings\n",
      "['hyma 31\\n', 'dilip 96\\n', 'bhavani 07\\n', 'indhu 05 \\n', 'sai 45']\n",
      "# writing into file\n",
      "shreyas iyer\n",
      "fiyer\n",
      "# raading from a file and writing or appending into a file\n",
      "shreyas iyer\n",
      "fiyerhyma 31\n",
      "dilip 96\n",
      "bhavani 07\n",
      "indhu 05 \n",
      "sai 45\n"
     ]
    }
   ],
   "source": [
    "#file handling\n",
    "\n",
    "file_path = './datasets/sample_text_file.txt'\n",
    "file1 = open(file_path, 'r')\n",
    "print(file1.mode, file1.name)\n",
    "print(file1.tell()) # gives the position of cursor in the file\n",
    "file1.seek(10, 0) # offset=10, from=0,1,2 moves cursor by offeset from begining for from=0, from relative to current pos for from=1, from=2 for from end\n",
    "file1.close()\n",
    "\n",
    "print('# reading total contents of the file')\n",
    "with open(file_path,'r') as file1:\n",
    "    file_data = file1.read()\n",
    "    print(file_data)\n",
    "\n",
    "print('# reading n characters from file')\n",
    "with open(file_path,'r') as file1:\n",
    "    file_data = file1.read(6) # reading first 6 chars\n",
    "    print(file_data)\n",
    "    file_data = file1.read(5) # reading next 5 chars\n",
    "    print(file_data)\n",
    "\n",
    "\n",
    "print('# iterating through the lines of the file')\n",
    "with open(file_path,'r') as file1:\n",
    "    i = 1\n",
    "    for line in file1:\n",
    "        print('line-',i, line)\n",
    "        i+=1\n",
    "               \n",
    "print('# getting lines of file as list of strings')\n",
    "with open(file_path, 'r') as file1:\n",
    "    lines_list = file1.readlines()\n",
    "    print(lines_list)\n",
    "\n",
    "\n",
    "write_file_path = './datasets/sample_write_file.txt'\n",
    "print('# writing into file') \n",
    "with open(write_file_path, 'w') as file1:\n",
    "    file1.write('shreyas iyer')\n",
    "    file1.write('\\n')\n",
    "    file1.write('fiyer')\n",
    "    \n",
    "with open(write_file_path,'r') as file1:\n",
    "    file_data = file1.read()\n",
    "    print(file_data)\n",
    "\n",
    "print('# raading from a file and writing or appending into a file')\n",
    "with open(file_path,'r') as read_file:\n",
    "    with open(write_file_path, 'a') as write_file:\n",
    "        for line in read_file:\n",
    "            write_file.write(line)\n",
    "            \n",
    "with open(write_file_path,'r') as file1:\n",
    "    file_data = file1.read()\n",
    "    print(file_data)\n",
    "\n"
   ]
  },
  {
   "cell_type": "code",
   "execution_count": 18,
   "id": "9e0239f1-05ca-4672-a61e-098b9782aa01",
   "metadata": {},
   "outputs": [],
   "source": [
    "# reading xml files\n",
    "with open('./datasets/books.xml','r') as xml_file:\n",
    "    xml_data = xml_file.read()\n",
    "    \n",
    "import xmltodict\n",
    "books_data = xmltodict.parse(xml_data)"
   ]
  },
  {
   "cell_type": "code",
   "execution_count": 19,
   "id": "a64106ff-b92a-4efc-aeb2-ae5f13cab8c8",
   "metadata": {},
   "outputs": [
    {
     "data": {
      "text/plain": [
       "dict_keys(['catalog'])"
      ]
     },
     "execution_count": 19,
     "metadata": {},
     "output_type": "execute_result"
    }
   ],
   "source": [
    "books_data.keys()"
   ]
  },
  {
   "cell_type": "code",
   "execution_count": 20,
   "id": "b8cf3971-52fd-4485-a022-42d808bc7371",
   "metadata": {},
   "outputs": [
    {
     "data": {
      "text/plain": [
       "dict_keys(['book'])"
      ]
     },
     "execution_count": 20,
     "metadata": {},
     "output_type": "execute_result"
    }
   ],
   "source": [
    "books_data = my_data['catalog']\n",
    "books_data.keys()"
   ]
  },
  {
   "cell_type": "code",
   "execution_count": 21,
   "id": "5f7e4bfd-04e0-46e9-b4f1-f44f8271f637",
   "metadata": {},
   "outputs": [
    {
     "data": {
      "text/plain": [
       "dict"
      ]
     },
     "execution_count": 21,
     "metadata": {},
     "output_type": "execute_result"
    }
   ],
   "source": [
    "books_data = books_data.get('book','')\n",
    "type(books_data[0])"
   ]
  },
  {
   "cell_type": "code",
   "execution_count": 22,
   "id": "355ee731-3f88-4da5-a5c4-7c803d37d50c",
   "metadata": {},
   "outputs": [
    {
     "data": {
      "text/plain": [
       "{'@id': 'bk101',\n",
       " 'author': 'Gambardella, Matthew',\n",
       " 'title': \"XML Developer's Guide\",\n",
       " 'genre': 'Computer',\n",
       " 'price': '44.95',\n",
       " 'publish_date': '2000-10-01',\n",
       " 'description': 'An in-depth look at creating applications \\n      with XML.'}"
      ]
     },
     "execution_count": 22,
     "metadata": {},
     "output_type": "execute_result"
    }
   ],
   "source": [
    "books_data[0]"
   ]
  },
  {
   "cell_type": "code",
   "execution_count": 38,
   "id": "19e38f95-4c1f-4968-a496-5581698b953b",
   "metadata": {},
   "outputs": [],
   "source": [
    "#  writing and reading json files\n",
    "import json\n",
    "\n",
    "# list of dictionaries into json file\n",
    "output_file = './datasets/sample_json_file1.jsonl'\n",
    "json_object = json.dumps(books_data, ensure_ascii=False, indent =2)\n",
    "with open(output_file,'w',encoding='utf-8') as outfile:\n",
    "    outfile.write(json_object)\n",
    "\n",
    "with open(output_file,'r',encoding='utf-8') as infile:\n",
    "    data = infile.read()\n",
    "data_list_of_dic = json.loads(data)\n"
   ]
  },
  {
   "cell_type": "code",
   "execution_count": 47,
   "id": "91255e19-4766-4d53-aba3-6fba9456dfd7",
   "metadata": {},
   "outputs": [],
   "source": [
    "# writing dictionary by dictionary\n",
    "output_file = './datasets/sample_json_file2.jsonl'\n",
    "with open(output_file, 'w', encoding='utf-8') as outfile:\n",
    "    for book in books_data:\n",
    "        outfile.write(json.dumps(book))\n",
    "        outfile.write('\\n')\n",
    "        \n",
    "with open(output_file, 'r') as infile:\n",
    "    data = infile.readlines()\n",
    "\n",
    "for i, r in enumerate(data):\n",
    "    data[i] = json.loads(r)"
   ]
  },
  {
   "cell_type": "code",
   "execution_count": 49,
   "id": "244878f3-ea29-4e3c-b8fe-33d1ad2ff918",
   "metadata": {},
   "outputs": [
    {
     "data": {
      "text/plain": [
       "dict"
      ]
     },
     "execution_count": 49,
     "metadata": {},
     "output_type": "execute_result"
    }
   ],
   "source": [
    "type(data[0])"
   ]
  },
  {
   "cell_type": "code",
   "execution_count": null,
   "id": "36297e8f-420a-42ba-8691-1ecf5a85e3e0",
   "metadata": {},
   "outputs": [],
   "source": []
  }
 ],
 "metadata": {
  "kernelspec": {
   "display_name": "learning-env",
   "language": "python",
   "name": "learning-env"
  },
  "language_info": {
   "codemirror_mode": {
    "name": "ipython",
    "version": 3
   },
   "file_extension": ".py",
   "mimetype": "text/x-python",
   "name": "python",
   "nbconvert_exporter": "python",
   "pygments_lexer": "ipython3",
   "version": "3.10.9"
  }
 },
 "nbformat": 4,
 "nbformat_minor": 5
}
