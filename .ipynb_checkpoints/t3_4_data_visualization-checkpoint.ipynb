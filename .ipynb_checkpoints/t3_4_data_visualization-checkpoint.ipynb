{
 "cells": [
  {
   "cell_type": "code",
   "execution_count": 2,
   "id": "0461e0fe-0b18-4b88-9ac4-f12bc18bc4cd",
   "metadata": {},
   "outputs": [],
   "source": [
    "# Data visualization is graphical representation of data and info to easily understand the data by \n",
    "# highlighting patterns, trends and relationships in the data using basic charts, interactive dashboards etc..\n",
    "\n",
    "# Types of Plots:\n",
    "    #1 Line Plot: connects the datapoints with straight line\n",
    "        # displays trends over the time\n",
    "        # visualize continous data\n",
    "        # eg: stock market fluctation, temperature change\n",
    "    #2 Bar Plots: displays data using rectangular bars\n",
    "        # height or length of the bar represnts the magnitude of the data\n",
    "        # comapring different categories or groups\n",
    "        # eg: sales revenue for products\n",
    "    #3 Scatter Plot: use cartesian coordinates to display variables for 2 variables\n",
    "        # investigating trends or patterns in data, detect outliers, identifying clusters in data\n",
    "        # eg: size of house vs price\n",
    "    #4 Box Plot:\n",
    "        # to display key distribution of data along with key statstical features\n",
    "    #5 Histogram: graphical represenation of dataset distribution\n",
    "        # show frequency or relative frequency within intervals\n"
   ]
  },
  {
   "cell_type": "code",
   "execution_count": null,
   "id": "0b1cce8a-a0b4-46cc-ae2b-87bc48d66180",
   "metadata": {},
   "outputs": [],
   "source": [
    "# Libraries\n",
    "    #1 matplotlib: line, scatter, bar, histogram, pie, box, heatmaps etc..\n",
    "    #2 pandas: built on top matplotlib, used for eda\n",
    "    #3 seaborn: categorical data, count, heat, violin, scatter, bar etc\n",
    "    #4 folium: geospatial DV, interactive maps: choropleth, point, heat\n",
    "    #5 plotly: interactive plots and dashboards(line, scatter,bar,pie, 3D, choroplteth..), enables plotting in web browser\n",
    "    #6 pywaffle: to visualize categorical data: waffle charts, square pie, donut and many more charts to display proportions\n",
    "\n",
    "# plotly and folium are interactive"
   ]
  },
  {
   "cell_type": "code",
   "execution_count": null,
   "id": "413d893d-baa5-43ec-8a74-821471f6fffc",
   "metadata": {},
   "outputs": [],
   "source": []
  },
  {
   "cell_type": "code",
   "execution_count": null,
   "id": "2a5f0425-e90c-4376-88b6-f090c15128e6",
   "metadata": {},
   "outputs": [],
   "source": []
  },
  {
   "cell_type": "code",
   "execution_count": null,
   "id": "edc3a336-9644-42c2-b01b-d42daab92393",
   "metadata": {},
   "outputs": [],
   "source": []
  },
  {
   "cell_type": "code",
   "execution_count": null,
   "id": "40d25e41-5cbb-4c26-a984-49f820652503",
   "metadata": {},
   "outputs": [],
   "source": []
  }
 ],
 "metadata": {
  "kernelspec": {
   "display_name": "learning-env",
   "language": "python",
   "name": "learning-env"
  },
  "language_info": {
   "codemirror_mode": {
    "name": "ipython",
    "version": 3
   },
   "file_extension": ".py",
   "mimetype": "text/x-python",
   "name": "python",
   "nbconvert_exporter": "python",
   "pygments_lexer": "ipython3",
   "version": "3.10.9"
  }
 },
 "nbformat": 4,
 "nbformat_minor": 5
}
